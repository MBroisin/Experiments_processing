{
 "cells": [
  {
   "cell_type": "code",
   "execution_count": 1,
   "metadata": {},
   "outputs": [],
   "source": [
    "import os\n",
    "import tqdm\n",
    "\n",
    "%matplotlib widget\n",
    "import matplotlib\n",
    "import matplotlib.pyplot\n",
    "\n",
    "import datetime\n",
    "import pytz\n",
    "\n",
    "import pandas\n",
    "import numpy\n",
    "import pickle\n",
    "\n",
    "import scipy\n",
    "\n",
    "import accels_utils.frame_accels as FA"
   ]
  },
  {
   "cell_type": "code",
   "execution_count": 2,
   "metadata": {},
   "outputs": [],
   "source": [
    "# Processing initialization\n",
    "DATA_RECALCULATION = True\n",
    "COMB = '3.2.10'\n",
    "root_path   = '/Users/matthieu/Documents/proto3/measurements_calib/data/' + COMB + '/'\n",
    "\n",
    "data_path_indiv_fm  = root_path + 'indiv/'\n",
    "data_path_global_fm = root_path + '1600/'\n",
    "\n",
    "ACC_NUMBER  = 10\n",
    "AXIS        = ['X', 'Y', 'Z']\n",
    "\n",
    "month       = '10'\n",
    "day         = '03'\n",
    "\n",
    "data_path_wax_only  = data_path_indiv_fm + month + '/' + day + '/' + 'wax_only/'\n",
    "data_path_water     = data_path_indiv_fm + month + '/' + day + '/' + 'wax_water/'\n",
    "data_path_naked     = data_path_global_fm + '03/28/'\n",
    "\n",
    "proc_path           = root_path + 'processed_data/' + month + '/' + day + '/'\n",
    "\n",
    "if not(os.path.isdir(proc_path)):\n",
    "    os.makedirs(proc_path, exist_ok=True)"
   ]
  },
  {
   "cell_type": "code",
   "execution_count": 3,
   "metadata": {},
   "outputs": [
    {
     "name": "stdout",
     "output_type": "stream",
     "text": [
      "Discovered 10 files for naked comb experiment (expected 10)\n",
      "Discovered 10 files for naked comb experiment (expected 10)\n",
      "Discovered 80 files for the different water configs (expected 80)\n"
     ]
    }
   ],
   "source": [
    "# Files list for the different configs\n",
    "N_FILES_EXPECTED = 10\n",
    "\n",
    "# Naked comb config\n",
    "files_list_naked = sorted([data_path_naked+x for x in os.listdir(data_path_naked) if x.startswith('r0') and x.endswith('.txt')])\n",
    "print('Discovered {} files for naked comb experiment (expected {})'.format(len(files_list_naked), N_FILES_EXPECTED))\n",
    "\n",
    "# Wax only config\n",
    "files_list_wax_only = sorted([data_path_wax_only+x for x in os.listdir(data_path_wax_only) if x.startswith('r0') and x.endswith('.txt')])\n",
    "print('Discovered {} files for naked comb experiment (expected {})'.format(len(files_list_naked), N_FILES_EXPECTED))\n",
    "\n",
    "# Wax with water config\n",
    "exp_water_list = sorted([data_path_water+x+'/' for x in os.listdir(data_path_water) if os.path.isdir(data_path_water + x)])\n",
    "nb_water_config = len(exp_water_list)\n",
    "files_list_water = []\n",
    "_ = [files_list_water.append([exp_water + x for x in os.listdir(exp_water)]) for exp_water in exp_water_list]\n",
    "print('Discovered {} files for the different water configs (expected {})'.format(len([item for sublist in files_list_water for item in sublist]), N_FILES_EXPECTED*nb_water_config))"
   ]
  },
  {
   "cell_type": "code",
   "execution_count": 4,
   "metadata": {},
   "outputs": [],
   "source": [
    "# first naive plot\n",
    "exp_configs = {\n",
    "    'names':['full region 4', '1/2 region 4', '1/4 region 4', 'full connexion 3-4', 'full connexion 2-3-4-5', '3/4 connexion 2-3-4-5', '1/2 connexion 2-3-4-5', '1/4 connexion 2-3-4-5'], #, 'naked', 'wax only'],\n",
    "    'files':[x for x in files_list_water] # + files_list_naked, files_list_wax_only],\n",
    "}\n",
    "frequencies = [100, 200, 300, 400, 500, 600, 700, 800, 900, 1000]\n",
    "frequency_configs = {\n",
    "    'names':[str(x) for x in frequencies],\n",
    "    'frequency':frequencies\n",
    "}\n",
    "\n",
    "if DATA_RECALCULATION : \n",
    "    # Data extraction : taking around 15mins\n",
    "    data = {'filenames':[], 'data':[], 'frequency':[], 'water_config':[]}\n",
    "    for exp_i, exp_name in enumerate(exp_configs['names']):\n",
    "        for freq_i, freq_name in enumerate(frequency_configs['names']):\n",
    "            try:\n",
    "                data_file = [f for f in exp_configs['files'][exp_i] if f.split('_')[-3].endswith(freq_name)][0]\n",
    "                with open(data_file) as accfile:\n",
    "                    dat = accfile.readlines()\n",
    "                data['filenames'].append(data_file)\n",
    "                data['data'].append(FA.extract_data(dat))\n",
    "                data['frequency'].append(frequency_configs['frequency'][freq_i])\n",
    "                data['water_config'].append(exp_name)\n",
    "            except : \n",
    "                print('There was a problem reading file {}'.format(data_file))\n",
    "\n",
    "    with open(proc_path + 'saved_accs_water.json', 'wb') as fp:\n",
    "        pickle.dump(data, fp)\n",
    "else :\n",
    "    with open(proc_path + 'saved_accs_water.json', 'rb') as fp:\n",
    "        data = pickle.load(fp)\n",
    "\n",
    "# fig, ax = matplotlib.pyplot.subplots(len(x_axis['names']), len(x_axis['names']), figsize=(15,15))\n",
    "# for y_i, y_name in enumerate(y_axis['names']):\n",
    "#     for x_i, x_name in enumerate(x_axis['names']):\n",
    "\n",
    "#         ax[y_i, x_i].plot()\n"
   ]
  },
  {
   "cell_type": "code",
   "execution_count": 5,
   "metadata": {},
   "outputs": [
    {
     "name": "stdout",
     "output_type": "stream",
     "text": [
      "[100, 200, 300, 400, 500, 600, 700, 800, 900, 1000]\n",
      "['full region 4', 'full region 4', 'full region 4', 'full region 4', 'full region 4', 'full region 4', 'full region 4', 'full region 4', 'full region 4', 'full region 4']\n"
     ]
    }
   ],
   "source": [
    "# Plots of water experiment\n",
    "print(data['frequency'])\n",
    "print(data['water_config'])"
   ]
  },
  {
   "cell_type": "code",
   "execution_count": 6,
   "metadata": {},
   "outputs": [
    {
     "data": {
      "text/plain": [
       "['/Users/matthieu/Documents/proto3/measurements_calib/data/3.2.10/indiv/10/03/wax_water/1/r0_f800_s16_b10.txt',\n",
       " '/Users/matthieu/Documents/proto3/measurements_calib/data/3.2.10/indiv/10/03/wax_water/1/r0_f100_s16_b10.txt',\n",
       " '/Users/matthieu/Documents/proto3/measurements_calib/data/3.2.10/indiv/10/03/wax_water/1/r0_f500_s16_b10.txt',\n",
       " '/Users/matthieu/Documents/proto3/measurements_calib/data/3.2.10/indiv/10/03/wax_water/1/r0_f200_s16_b10.txt',\n",
       " '/Users/matthieu/Documents/proto3/measurements_calib/data/3.2.10/indiv/10/03/wax_water/1/r0_f600_s16_b10.txt',\n",
       " '/Users/matthieu/Documents/proto3/measurements_calib/data/3.2.10/indiv/10/03/wax_water/1/r0_f1000_s16_b10.txt',\n",
       " '/Users/matthieu/Documents/proto3/measurements_calib/data/3.2.10/indiv/10/03/wax_water/1/r0_f700_s16_b10.txt',\n",
       " '/Users/matthieu/Documents/proto3/measurements_calib/data/3.2.10/indiv/10/03/wax_water/1/r0_f300_s16_b10.txt',\n",
       " '/Users/matthieu/Documents/proto3/measurements_calib/data/3.2.10/indiv/10/03/wax_water/1/r0_f400_s16_b10.txt',\n",
       " '/Users/matthieu/Documents/proto3/measurements_calib/data/3.2.10/indiv/10/03/wax_water/1/r0_f900_s16_b10.txt']"
      ]
     },
     "execution_count": 6,
     "metadata": {},
     "output_type": "execute_result"
    }
   ],
   "source": [
    "exp_configs['files'][0]"
   ]
  },
  {
   "cell_type": "code",
   "execution_count": 7,
   "metadata": {},
   "outputs": [],
   "source": [
    "# Data extraction : taking 4 mins for 144 files (1 regular day)\n",
    "# data = {}\n",
    "# for fname_i, fname in enumerate(files_list):\n",
    "#     try:\n",
    "#         with open(data_path + fname) as accfile:\n",
    "#             dat = accfile.readlines()\n",
    "#         data[fname_i] = {}\n",
    "#         data[fname_i]['data'] = FA.extract_data(dat)\n",
    "#         data[fname_i]['ts']  = datetime.datetime.strptime(fname.split('.')[0].split('_')[-1][2:-3], '%y-%m-%dT%H%M%S')\n",
    "#     except : \n",
    "#         print('There was a problem reading file {}'.format(fname))\n",
    "    \n",
    "    # if fname_i > 50:\n",
    "    #     break"
   ]
  },
  {
   "cell_type": "code",
   "execution_count": 8,
   "metadata": {},
   "outputs": [],
   "source": [
    "# energies = []\n",
    "# for rec in data.keys():\n",
    "#     energy = {}\n",
    "#     energy['ts'] = data[rec]['ts']\n",
    "#     for acc in data[rec]['data'].keys():\n",
    "#         if acc in range(1,ACC_NUMBER+1):\n",
    "#             for axis in data[rec]['data'][acc].keys():\n",
    "#                 signal = numpy.array(data[rec]['data'][acc][axis]['val'])\n",
    "#                 filtered_signal = FA.butter_lowpass_filter(signal, 5, 1600)\n",
    "#                 energy[str(acc)+axis] = numpy.mean(numpy.power(filtered_signal, 2))\n",
    "#     energies.append(energy)\n",
    "# energies = pandas.DataFrame.from_dict(energies)"
   ]
  },
  {
   "cell_type": "code",
   "execution_count": 9,
   "metadata": {},
   "outputs": [],
   "source": [
    "# cmap = matplotlib.cm.get_cmap('rainbow')\n",
    "\n",
    "# fig, ax = matplotlib.pyplot.subplots(len(AXIS), 1, figsize=(13,7), sharex=True)\n",
    "# for axis_id, axis in enumerate(AXIS):\n",
    "#     for acc in range(1, ACC_NUMBER+1):\n",
    "#         ax[axis_id].plot(energies.ts, scipy.signal.medfilt(energies[str(acc)+axis], 5), c=cmap(float(acc)/ACC_NUMBER), label=str(acc)+axis)\n",
    "#     ax[axis_id].grid()\n",
    "# ax[0].legend()\n",
    "\n",
    "# matplotlib.pyplot.gcf().autofmt_xdate()\n",
    "# fig.tight_layout()"
   ]
  },
  {
   "cell_type": "code",
   "execution_count": null,
   "metadata": {},
   "outputs": [],
   "source": []
  }
 ],
 "metadata": {
  "kernelspec": {
   "display_name": "default_conf",
   "language": "python",
   "name": "python3"
  },
  "language_info": {
   "codemirror_mode": {
    "name": "ipython",
    "version": 3
   },
   "file_extension": ".py",
   "mimetype": "text/x-python",
   "name": "python",
   "nbconvert_exporter": "python",
   "pygments_lexer": "ipython3",
   "version": "3.9.15"
  },
  "orig_nbformat": 4
 },
 "nbformat": 4,
 "nbformat_minor": 2
}
